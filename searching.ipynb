{
 "cells": [
  {
   "cell_type": "code",
   "execution_count": null,
   "metadata": {
    "vscode": {
     "languageId": "plaintext"
    }
   },
   "outputs": [],
   "source": [
    "#LINEAR SEARCHING---->Start from the first element and check each one.\n",
    "If we find the target, return its position.\n",
    "If we reach the end and don’t find it, return -1.\n",
    "Best for small lists or when the list is not sorted.\n",
    "Slow for large lists."
   ]
  },
  {
   "cell_type": "code",
   "execution_count": null,
   "metadata": {
    "vscode": {
     "languageId": "plaintext"
    }
   },
   "outputs": [],
   "source": [
    "def linear_search(arr,target):\n",
    "     for i in range(len(arr)):\n",
    "          if arr[i] == target :\n",
    "               return i\n",
    "     return -1\n",
    "\n",
    "arr = [17,3,0,2,71]\n",
    "target = 0\n"
   ]
  },
  {
   "cell_type": "code",
   "execution_count": null,
   "metadata": {
    "vscode": {
     "languageId": "plaintext"
    }
   },
   "outputs": [],
   "source": [
    "#BINARY SEARCH---->Works only on sorted lists.\n",
    "Repeatedly divides the list into two halves.\n",
    "If the middle element is the target, return its index.\n",
    "If the target is smaller, search the left half.\n",
    "If the target is larger, search the right half.\n",
    "Super fast for large sorted lists.\n",
    "Only works on sorted lists."
   ]
  },
  {
   "cell_type": "code",
   "execution_count": null,
   "metadata": {
    "vscode": {
     "languageId": "plaintext"
    }
   },
   "outputs": [],
   "source": [
    "#iterative way\n",
    "\n",
    "def binary_search_iterative(arr,target):\n",
    "     left = 0\n",
    "     right = len(arr)-1\n",
    "     while left <= right :\n",
    "          mid = (left+right)//2\n",
    "          if arr[mid]==target:\n",
    "               return  mid\n",
    "          elif arr[mid]<target:\n",
    "               left = mid +1\n",
    "          else:\n",
    "               right = mid -1\n",
    "     return -1\n",
    "\n",
    "\n",
    "arr = [17,3,0,2,71]\n",
    "target = 0\n"
   ]
  },
  {
   "cell_type": "code",
   "execution_count": null,
   "metadata": {
    "vscode": {
     "languageId": "plaintext"
    }
   },
   "outputs": [],
   "source": [
    "#recursive way\n",
    "\n",
    "def binary_search_recursive(arr,target,right,left):\n",
    "     mid = (left+right)//2\n",
    "\n",
    "     if left>right:\n",
    "          return -1\n",
    "     elif arr[mid] == target:\n",
    "          return mid\n",
    "     elif arr[mid] < target :\n",
    "          return binary_search_recursive(arr,target,mid+1,right)\n",
    "     else:\n",
    "          return binary_search_recursive(arr,target,left,mid+1)\n",
    "\n",
    "\n",
    "arr = [17,3,0,2,71]\n",
    "target = 0\n"
   ]
  },
  {
   "cell_type": "code",
   "execution_count": null,
   "metadata": {
    "vscode": {
     "languageId": "plaintext"
    }
   },
   "outputs": [],
   "source": [
    "#TERNARY SEARCH---->split it into three parts.\n",
    "check two midpoints instead of one.\n",
    "If the target is smaller than first mid, search in the first part.\n",
    "If the target is between two mids, search in the middle part.\n",
    "If the target is larger than second mid, search in the last part.\n",
    "Not used in real-world applications."
   ]
  },
  {
   "cell_type": "code",
   "execution_count": null,
   "metadata": {
    "vscode": {
     "languageId": "plaintext"
    }
   },
   "outputs": [],
   "source": [
    "#iterative way\n",
    "\n",
    "def ternery_search_iterative(arr,target):\n",
    "     left = 0\n",
    "     right = len(arr)-1\n",
    "     while left <= right :\n",
    "          mid1 =left+(right-left)//3\n",
    "          mid2 =right-(right-left)//3\n",
    "\n",
    "          if arr[mid1] == target:\n",
    "               return mid1\n",
    "          if arr[mid2] == target:\n",
    "               return mid2\n",
    "          \n",
    "          if target < arr[mid1]:\n",
    "               right = mid1-1\n",
    "          elif target > arr[mid2]:\n",
    "               left = mid2+1\n",
    "          else:\n",
    "               left = mid1 + 1\n",
    "               right = mid2 -1\n",
    "\n",
    "arr = [17,3,0,2,71]\n",
    "target = 0"
   ]
  },
  {
   "cell_type": "code",
   "execution_count": null,
   "metadata": {
    "vscode": {
     "languageId": "plaintext"
    }
   },
   "outputs": [],
   "source": [
    "#recursive way\n",
    "\n",
    "def ternery_search_recursive(arr,target,left,right):\n",
    "     mid1 =left+(right-left)//3\n",
    "     mid2 =right-(right-left)//3\n",
    "     if left>right:\n",
    "          return -1\n",
    "     elif arr[mid1] == target:\n",
    "          return mid1\n",
    "     elif arr[mid2] == target:\n",
    "          return mid2\n",
    "     elif target < arr[mid1] :\n",
    "          return ternery_search_recursive(arr,target,mid1-1,left)\n",
    "     elif target > arr[mid2] :\n",
    "          return ternery_search_recursive(arr,target,mid2+1,right)    \n",
    "     else:\n",
    "          return ternery_search_recursive(arr,target,,mid1+1,mid2-1)\n",
    "arr = [17,3,0,2,71]\n",
    "target = 0"
   ]
  }
 ],
 "metadata": {
  "language_info": {
   "name": "python"
  }
 },
 "nbformat": 4,
 "nbformat_minor": 2
}
